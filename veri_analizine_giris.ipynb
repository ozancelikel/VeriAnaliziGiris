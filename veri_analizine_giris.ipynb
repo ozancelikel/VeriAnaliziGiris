{
 "cells": [
  {
   "cell_type": "markdown",
   "metadata": {},
   "source": [
    "![rmotr](data:image/png;base64,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)\n",
    "<hr style=\"margin-bottom: 40px;\">\n",
    "\n",
    "<img src=\"https://user-images.githubusercontent.com/7065401/58563302-42466a80-8201-11e9-9948-b3e9f88a5662.jpg\"\n",
    "    style=\"width:400px; float: right; margin: 0 40px 40px 40px;\"></img>\n",
    "\n",
    "# Bisiklet satışları"
   ]
  },
  {
   "cell_type": "markdown",
   "metadata": {},
   "source": [
    "![purple-divider](https://user-images.githubusercontent.com/7065401/52071927-c1cd7100-2562-11e9-908a-dde91ba14e59.png)\n",
    "## 1) Veriyi yükleme ve kurcalama"
   ]
  },
  {
   "cell_type": "code",
   "execution_count": null,
   "metadata": {},
   "outputs": [],
   "source": [
    "import numpy as np\n",
    "import pandas as pd\n",
    "import matplotlib.pyplot as plt\n",
    "\n",
    "%matplotlib inline"
   ]
  },
  {
   "cell_type": "markdown",
   "metadata": {},
   "source": [
    "Eğer Google Collab kullanıyorsan (ve eğer aşağıdaki yorumdaysa) aşağıdaki hücreyi yorumdan çıkarıp çalıştır, ve bir onun altındaki hücredeki dosya yolunu drive'daki dosya yoluyla değiştir. Verimizi bu şekilde yükleyeceğiz."
   ]
  },
  {
   "cell_type": "code",
   "execution_count": null,
   "metadata": {},
   "outputs": [],
   "source": [
    "# Eğer Google Collab kullanıyorsan \n",
    "# (ve eğer bu hücre yorumdaysa)\n",
    "# bu hücreyi yorumdan çıkarıp çalıştır,\n",
    "# ve bir aşağıdaki hücredeki dosya yolunu değiştir.\n",
    "#\n",
    "from google.colab import drive\n",
    "drive.mount('/content/drive')"
   ]
  },
  {
   "cell_type": "code",
   "execution_count": null,
   "metadata": {},
   "outputs": [],
   "source": [
    "sales = pd.read_csv(\"/content/drive/MyDrive/VeriAnaliziGiris/sales_data.csv\", parse_dates=['Date'])"
   ]
  },
  {
   "cell_type": "code",
   "execution_count": null,
   "metadata": {},
   "outputs": [],
   "source": [
    "sales.head()"
   ]
  },
  {
   "cell_type": "markdown",
   "metadata": {},
   "source": [
    "![green-divider](https://user-images.githubusercontent.com/7065401/52071924-c003ad80-2562-11e9-8297-1c6595f8a7ff.png)\n",
    "\n",
    "### `Customers_Age` ortalaması kaç?"
   ]
  },
  {
   "cell_type": "markdown",
   "metadata": {
    "cell_type": "hint"
   },
   "source": [
    "`.mean()` ile deneyelim"
   ]
  },
  {
   "cell_type": "code",
   "execution_count": null,
   "metadata": {
    "cell_type": "solution"
   },
   "outputs": [],
   "source": [
    "sales['Musteri_Yasi'].mean()"
   ]
  },
  {
   "cell_type": "markdown",
   "metadata": {},
   "source": [
    "`Customer_Age` verisiyle bir <b>yoğunluk (KDE, Kernel density estimation)</b> ve <b>kutu grafiği</b> çizdirelim:"
   ]
  },
  {
   "cell_type": "code",
   "execution_count": null,
   "metadata": {
    "cell_type": "solution"
   },
   "outputs": [],
   "source": [
    "sales['Musteri_Yasi'].plot(kind='kde', figsize=(14,4))"
   ]
  },
  {
   "cell_type": "code",
   "execution_count": null,
   "metadata": {
    "cell_type": "solution"
   },
   "outputs": [],
   "source": [
    "sales['Musteri_Yasi'].plot(kind='box', vert=False, figsize=(14,4))"
   ]
  },
  {
   "cell_type": "markdown",
   "metadata": {
    "jp-MarkdownHeadingCollapsed": true
   },
   "source": [
    "![purple-divider](https://user-images.githubusercontent.com/7065401/52071927-c1cd7100-2562-11e9-908a-dde91ba14e59.png)\n",
    "## 2) Veriyi temizleme"
   ]
  },
  {
   "cell_type": "markdown",
   "metadata": {},
   "source": [
    "Önce verinin özelliklerini inceleyelim:"
   ]
  },
  {
   "cell_type": "code",
   "execution_count": null,
   "metadata": {},
   "outputs": [],
   "source": [
    "sales.info()"
   ]
  },
  {
   "cell_type": "markdown",
   "metadata": {},
   "source": [
    "Adımlarımızı hatırlayalım. Veride temizlememiz gereken bir şey var mı?"
   ]
  },
  {
   "cell_type": "code",
   "execution_count": null,
   "metadata": {},
   "outputs": [],
   "source": [
    "sales.isnull().sum()"
   ]
  },
  {
   "cell_type": "code",
   "execution_count": null,
   "metadata": {},
   "outputs": [],
   "source": [
    "print(f\"Toplam null (boş) veri: {sales.isnull().sum().sum()}\")"
   ]
  },
  {
   "cell_type": "code",
   "execution_count": null,
   "metadata": {},
   "outputs": [],
   "source": [
    "sales = sales.dropna()\n",
    "sales.isnull().sum()"
   ]
  },
  {
   "cell_type": "markdown",
   "metadata": {
    "jp-MarkdownHeadingCollapsed": true
   },
   "source": [
    "![purple-divider](https://user-images.githubusercontent.com/7065401/52071927-c1cd7100-2562-11e9-908a-dde91ba14e59.png)\n",
    "## 3) Veriyi detaylı inceleme\n",
    "\n",
    "Genel bir bakış atalım:"
   ]
  },
  {
   "cell_type": "code",
   "execution_count": null,
   "metadata": {},
   "outputs": [],
   "source": [
    "sales.describe()"
   ]
  },
  {
   "cell_type": "markdown",
   "metadata": {},
   "source": [
    "### `Siparis_Miktari` ortalaması?"
   ]
  },
  {
   "cell_type": "code",
   "execution_count": null,
   "metadata": {
    "cell_type": "solution"
   },
   "outputs": [],
   "source": [
    "sales['Siparis_Miktari'].mean()"
   ]
  },
  {
   "cell_type": "markdown",
   "metadata": {},
   "source": [
    "`Siprais_Miktari` verisinin <b>histogram</b> ve <b>kutu grafiğini</b> çizdirelim:"
   ]
  },
  {
   "cell_type": "code",
   "execution_count": null,
   "metadata": {
    "cell_type": "solution"
   },
   "outputs": [],
   "source": [
    "sales['Siparis_Miktari'].plot(kind='hist', bins=30, figsize=(14,4), ylabel=\"Frekans\", xlabel=\"Siparis Miktari\")"
   ]
  },
  {
   "cell_type": "code",
   "execution_count": null,
   "metadata": {
    "cell_type": "solution"
   },
   "outputs": [],
   "source": [
    "sales['Siparis_Miktari'].plot(kind='box', vert=False, figsize=(14,4))"
   ]
  },
  {
   "cell_type": "markdown",
   "metadata": {},
   "source": [
    "### Yıllık ne kadar satışımız var?"
   ]
  },
  {
   "cell_type": "code",
   "execution_count": null,
   "metadata": {
    "cell_type": "solution"
   },
   "outputs": [],
   "source": [
    "sales['Year'].value_counts()"
   ]
  },
  {
   "cell_type": "markdown",
   "metadata": {},
   "source": [
    "Bu verinin bir <b>pie plot (daire grafiğini)</b> çıkaralım:"
   ]
  },
  {
   "cell_type": "code",
   "execution_count": null,
   "metadata": {
    "cell_type": "solution"
   },
   "outputs": [],
   "source": [
    "sales['Year'].value_counts().plot(kind='pie', figsize=(6,6), ylabel=\"Yillik Satis Miktari\")"
   ]
  },
  {
   "cell_type": "markdown",
   "metadata": {},
   "source": [
    "*Bu veri ne işimize yarayabilir?*"
   ]
  },
  {
   "cell_type": "markdown",
   "metadata": {},
   "source": [
    "### Aylık ne kadar verimiz var?"
   ]
  },
  {
   "cell_type": "markdown",
   "metadata": {},
   "source": [
    "Bütün yıllarda aylık ne kadar satış yaptığımıza bakacağız."
   ]
  },
  {
   "cell_type": "code",
   "execution_count": null,
   "metadata": {
    "cell_type": "solution"
   },
   "outputs": [],
   "source": [
    "sales['Month'].value_counts()"
   ]
  },
  {
   "cell_type": "markdown",
   "metadata": {},
   "source": [
    "Bu verinin bir **bar plot'unu (çubuk grafik)** çizdirelim:"
   ]
  },
  {
   "cell_type": "code",
   "execution_count": null,
   "metadata": {
    "cell_type": "solution"
   },
   "outputs": [],
   "source": [
    "sales['Month'].value_counts().plot(kind='bar', figsize=(14,6))"
   ]
  },
  {
   "cell_type": "markdown",
   "metadata": {},
   "source": [
    "### En çok satışı hangi ülkede yapmışız?"
   ]
  },
  {
   "cell_type": "code",
   "execution_count": null,
   "metadata": {
    "cell_type": "solution"
   },
   "outputs": [],
   "source": [
    "sales['Ulke'].value_counts().head(1)"
   ]
  },
  {
   "cell_type": "code",
   "execution_count": null,
   "metadata": {
    "cell_type": "solution"
   },
   "outputs": [],
   "source": [
    "sales['Ulke'].value_counts()"
   ]
  },
  {
   "cell_type": "markdown",
   "metadata": {},
   "source": [
    "Ülke başına satışı gösteren bir <b>bar plot (kutu grafiği)</b> çizdirelim:"
   ]
  },
  {
   "cell_type": "code",
   "execution_count": null,
   "metadata": {
    "cell_type": "solution"
   },
   "outputs": [],
   "source": [
    "sales['Ulke'].value_counts().plot(kind='bar', figsize=(14,4))"
   ]
  },
  {
   "cell_type": "markdown",
   "metadata": {},
   "source": [
    "### Peki ya ürünleri incelersek?"
   ]
  },
  {
   "cell_type": "markdown",
   "metadata": {},
   "source": [
    "Sattığımız bütün ürünlerin isimlerini çıkaralım:"
   ]
  },
  {
   "cell_type": "code",
   "execution_count": null,
   "metadata": {
    "cell_type": "solution"
   },
   "outputs": [],
   "source": [
    "sales['Urun'].unique()"
   ]
  },
  {
   "cell_type": "markdown",
   "metadata": {},
   "source": [
    "Tamam, ama çok fazla ürün var ve benim için anlamlı olanlar en çok sattıklarım, en çok satılan **10 ürünü** bastıralım:"
   ]
  },
  {
   "cell_type": "code",
   "execution_count": null,
   "metadata": {
    "cell_type": "solution"
   },
   "outputs": [],
   "source": [
    "sales['Urun'].value_counts().head(10).plot(kind='bar', figsize=(14,4))"
   ]
  },
  {
   "cell_type": "markdown",
   "metadata": {},
   "source": [
    "### Satışların Yaş Gruplarına göre dağılımı"
   ]
  },
  {
   "cell_type": "code",
   "execution_count": null,
   "metadata": {},
   "outputs": [],
   "source": [
    "sales['Yas_Grubu'].value_counts().plot(kind='pie', figsize=(6,6))"
   ]
  },
  {
   "cell_type": "markdown",
   "metadata": {
    "jp-MarkdownHeadingCollapsed": true
   },
   "source": [
    "![purple-divider](https://user-images.githubusercontent.com/7065401/52071927-c1cd7100-2562-11e9-908a-dde91ba14e59.png)\n",
    "## 4) Bağlantılar Kurmak"
   ]
  },
  {
   "cell_type": "markdown",
   "metadata": {},
   "source": [
    "### `Birim_Maliyeti` ve `Birim_Fiyati` arasında bir bağlantı var mı?\n",
    "\n",
    "Şu ana kadar hep tek değer üzerinden analiz yaptık, şimdiyse iki değer arasında bir bağlantı kurmaya çalışacağız. İki değeri kullanarak bir <b>scatter plot (serpme grafiği)</b> çizdirelim."
   ]
  },
  {
   "cell_type": "code",
   "execution_count": null,
   "metadata": {
    "cell_type": "solution"
   },
   "outputs": [],
   "source": [
    "sales.plot(kind='scatter', x='Birim_Maliyeti', y='Birim_Fiyati', figsize=(6,6))"
   ]
  },
  {
   "cell_type": "markdown",
   "metadata": {},
   "source": [
    "### `Siparis_Miktari` ve `Kazanc` arasında bir ilişki var mı?\n",
    "\n",
    "İki sütunu kullanarak bir **scatter plot** çizdirelim."
   ]
  },
  {
   "cell_type": "code",
   "execution_count": null,
   "metadata": {
    "cell_type": "solution"
   },
   "outputs": [],
   "source": [
    "sales.plot(kind='scatter', x='Siparis_Miktari', y='Kazanc', figsize=(6,6))"
   ]
  },
  {
   "cell_type": "markdown",
   "metadata": {},
   "source": [
    "### `Ulke` başına `Kazanc`\n",
    "\n",
    "Ülke başına ortalama kazancı gördüğümüz biz **bar plot** çizdirelim:"
   ]
  },
  {
   "cell_type": "code",
   "execution_count": null,
   "metadata": {},
   "outputs": [],
   "source": [
    "sales.groupby('Ulke')['Kazanc'].mean().plot(kind='bar', figsize=(10,4))"
   ]
  },
  {
   "cell_type": "markdown",
   "metadata": {},
   "source": [
    "Her ülke için kazançları gösteren bir **kutu grafiği** yapalım."
   ]
  },
  {
   "cell_type": "code",
   "execution_count": null,
   "metadata": {
    "cell_type": "solution"
   },
   "outputs": [],
   "source": [
    "sales[['Kazanc', 'Ulke']].boxplot(by='Ulke', figsize=(10,6))"
   ]
  },
  {
   "cell_type": "markdown",
   "metadata": {},
   "source": [
    "### `Ulke` başına `Musteri_Yasi`'nda bir ilişki var mı?"
   ]
  },
  {
   "cell_type": "code",
   "execution_count": null,
   "metadata": {
    "cell_type": "solution"
   },
   "outputs": [],
   "source": [
    "sales[['Musteri_Yasi', 'Ulke']].boxplot(by='Ulke', figsize=(10,6))"
   ]
  },
  {
   "cell_type": "markdown",
   "metadata": {},
   "source": [
    "### `Hesaplanmis_Tarih` adında yeni bir sütun hesapla ve ekle \n",
    "\n",
    "`Day`(Gün), `Month`(Ay) ve `Year`(Yıl) verisini kullanarak `Tarih` adında yeni bir sütun ekleyeceğiz ve formatı şu şekilde olacak: (`YYYY-MM-DD`)."
   ]
  },
  {
   "cell_type": "code",
   "execution_count": null,
   "metadata": {
    "cell_type": "solution"
   },
   "outputs": [],
   "source": [
    "sales['Hesaplanmis_Tarih'] = sales[['Year', 'Month', 'Day']].apply(lambda x: '{}-{}-{}'.format(x[0], x[1], x[2]), axis=1)\n",
    "\n",
    "sales['Hesaplanmis_Tarih'].head()"
   ]
  },
  {
   "cell_type": "markdown",
   "metadata": {},
   "source": [
    "#### `Calculated_Date` sütununu veriye `datetime` formatında ekleyelim"
   ]
  },
  {
   "cell_type": "code",
   "execution_count": null,
   "metadata": {
    "cell_type": "solution"
   },
   "outputs": [],
   "source": [
    "sales['Hesaplanmis_Tarih'] = pd.to_datetime(sales['Hesaplanmis_Tarih'])\n",
    "\n",
    "sales['Hesaplanmis_Tarih'].head()"
   ]
  },
  {
   "cell_type": "markdown",
   "metadata": {},
   "source": [
    "### `Canada` ve `France`'da ne kadar satış olmuş?"
   ]
  },
  {
   "cell_type": "code",
   "execution_count": null,
   "metadata": {
    "cell_type": "solution"
   },
   "outputs": [],
   "source": [
    "sales.loc[(sales['Ulke'] == 'Canada') | (sales['Ulke'] == 'France')].shape[0]"
   ]
  },
  {
   "cell_type": "markdown",
   "metadata": {},
   "source": [
    "### Kadın-Erkek satış oranı"
   ]
  },
  {
   "cell_type": "code",
   "execution_count": null,
   "metadata": {
    "cell_type": "solution"
   },
   "outputs": [],
   "source": [
    "sales['Musteri_Cinsiyeti'].value_counts()"
   ]
  },
  {
   "cell_type": "code",
   "execution_count": null,
   "metadata": {},
   "outputs": [],
   "source": [
    "sales['Musteri_Cinsiyeti'].value_counts().plot(kind='bar')"
   ]
  },
  {
   "cell_type": "markdown",
   "metadata": {
    "jp-MarkdownHeadingCollapsed": true
   },
   "source": [
    "![purple-divider](https://user-images.githubusercontent.com/7065401/52071927-c1cd7100-2562-11e9-908a-dde91ba14e59.png)\n",
    "## 5) Daha Detaylı Sorular Sormak"
   ]
  },
  {
   "cell_type": "markdown",
   "metadata": {},
   "source": [
    "### 500'den daha fazla `Hasilat` değerine sahip satışların kaç tanesi kadınlar tarafından yapıldı?"
   ]
  },
  {
   "cell_type": "code",
   "execution_count": null,
   "metadata": {
    "cell_type": "solution"
   },
   "outputs": [],
   "source": [
    "sales.loc[(sales['Musteri_Cinsiyeti'] == 'F') & (sales['Hasilat'] == 500)].shape[0]"
   ]
  },
  {
   "cell_type": "markdown",
   "metadata": {},
   "source": [
    "### En çok `hasilat` getiren 5 satis"
   ]
  },
  {
   "cell_type": "code",
   "execution_count": null,
   "metadata": {
    "cell_type": "solution"
   },
   "outputs": [],
   "source": [
    "sales.sort_values(['Hasilat'], ascending=False).head(5)"
   ]
  },
  {
   "cell_type": "markdown",
   "metadata": {},
   "source": [
    "### En çok `Hasilat` yapan satış"
   ]
  },
  {
   "cell_type": "code",
   "execution_count": null,
   "metadata": {
    "cell_type": "solution"
   },
   "outputs": [],
   "source": [
    "cond = sales['Hasilat'] == sales['Hasilat'].max()\n",
    "\n",
    "sales.loc[cond]"
   ]
  },
  {
   "cell_type": "markdown",
   "metadata": {},
   "source": [
    "### 2016 Mayıs'ta ne kadar sipariş verildi?"
   ]
  },
  {
   "cell_type": "code",
   "execution_count": null,
   "metadata": {
    "cell_type": "solution"
   },
   "outputs": [],
   "source": [
    "cond = (sales['Year'] == 2016) & (sales['Month'] == 'May')\n",
    "\n",
    "sales.loc[cond].shape[0]"
   ]
  },
  {
   "cell_type": "markdown",
   "metadata": {
    "jp-MarkdownHeadingCollapsed": true
   },
   "source": [
    "![purple-divider](https://user-images.githubusercontent.com/7065401/52071927-c1cd7100-2562-11e9-908a-dde91ba14e59.png)\n",
    "## 6) Bir analiz yapalım\n",
    "\n",
    "Her ay ne kadar satış yaptığımıza bakalım: "
   ]
  },
  {
   "cell_type": "markdown",
   "metadata": {},
   "source": [
    "### Korelasyon bulabilir miyiz?\n",
    "\n",
    "Veride manalı bir ilişki var mı?"
   ]
  },
  {
   "cell_type": "code",
   "execution_count": null,
   "metadata": {},
   "outputs": [],
   "source": [
    "sales.groupby(sales['Hesaplanmis_Tarih'].dt.to_period('M'))['Siparis_Miktari'].sum().plot(kind='bar', figsize=(14, 4))\n",
    "plt.xlabel('Month-Year')\n",
    "plt.ylabel('Toplam Satis')\n",
    "plt.title('Aylik satis')\n",
    "plt.show()"
   ]
  },
  {
   "cell_type": "code",
   "execution_count": null,
   "metadata": {},
   "outputs": [],
   "source": [
    "corr = sales.corr(numeric_only=True)\n",
    "\n",
    "corr"
   ]
  },
  {
   "cell_type": "markdown",
   "metadata": {},
   "source": [
    "Artık çok daha fazlasını yapmaya hazırız. \n",
    "\n",
    "Machine learning -> AI"
   ]
  }
 ],
 "metadata": {
  "kernelspec": {
   "display_name": "Python 3 (ipykernel)",
   "language": "python",
   "name": "python3"
  },
  "language_info": {
   "codemirror_mode": {
    "name": "ipython",
    "version": 3
   },
   "file_extension": ".py",
   "mimetype": "text/x-python",
   "name": "python",
   "nbconvert_exporter": "python",
   "pygments_lexer": "ipython3",
   "version": "3.12.4"
  }
 },
 "nbformat": 4,
 "nbformat_minor": 4
}
